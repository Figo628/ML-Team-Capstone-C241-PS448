{
 "cells": [
  {
   "metadata": {},
   "cell_type": "markdown",
   "source": "## Add TensorFlow Serving Distribution URI as a Package Source",
   "id": "bf19f4e3c88aca64"
  },
  {
   "metadata": {
    "ExecuteTime": {
     "end_time": "2024-06-05T09:10:56.920353Z",
     "start_time": "2024-06-05T09:10:56.914615Z"
    }
   },
   "cell_type": "code",
   "source": [
    "# This is the same as you would do from your command line, but without the [arch=amd64], and no sudo\n",
    "# You would instead do:\n",
    "# echo \"deb [arch=amd64] http://storage.googleapis.com/tensorflow-serving-apt stable tensorflow-model-server tensorflow-model-server-universal\" | sudo tee /etc/apt/sources.list.d/tensorflow-serving.list && \\\n",
    "# curl https://storage.googleapis.com/tensorflow-serving-apt/tensorflow-serving.release.pub.gpg | sudo apt-key add -\n",
    "\n",
    "!echo \"deb http://storage.googleapis.com/tensorflow-serving-apt stable tensorflow-model-server tensorflow-model-server-universal\" | tee /etc/apt/sources.list.d/tensorflow-serving.list && \\\n",
    "curl https://storage.googleapis.com/tensorflow-serving-apt/tensorflow-serving.release.pub.gpg | apt-key add -\n",
    "!apt update"
   ],
   "id": "initial_id",
   "outputs": [
    {
     "ename": "SyntaxError",
     "evalue": "invalid syntax (2034871133.py, line 3)",
     "output_type": "error",
     "traceback": [
      "\u001B[1;36m  Cell \u001B[1;32mIn[3], line 3\u001B[1;36m\u001B[0m\n\u001B[1;33m    echo \"deb [arch=amd64] http://storage.googleapis.com/tensorflow-serving-apt stable tensorflow-model-server tensorflow-model-server-universal\" | sudo tee /etc/apt/sources.list.d/tensorflow-serving.list && \\\u001B[0m\n\u001B[1;37m         ^\u001B[0m\n\u001B[1;31mSyntaxError\u001B[0m\u001B[1;31m:\u001B[0m invalid syntax\n"
     ]
    }
   ],
   "execution_count": 3
  },
  {
   "metadata": {},
   "cell_type": "code",
   "outputs": [],
   "execution_count": null,
   "source": "import tensorflow as tf",
   "id": "7de7ad4518ce685d"
  },
  {
   "metadata": {},
   "cell_type": "code",
   "outputs": [],
   "execution_count": null,
   "source": "DIR_MODEL = os.path.join('model', 'model_cnn_same_like_before')",
   "id": "4ddbfe7e4cad037f"
  },
  {
   "metadata": {},
   "cell_type": "markdown",
   "source": "## Examine Your Saved Model",
   "id": "51c73eed89f7f73c"
  },
  {
   "metadata": {},
   "cell_type": "code",
   "outputs": [],
   "execution_count": null,
   "source": "!saved_model_cli show --dir {export_path} --all",
   "id": "320171eed3ccc042"
  },
  {
   "metadata": {},
   "cell_type": "markdown",
   "source": "## Run the TensorFlow Model Server",
   "id": "cca1c5656b4b196e"
  },
  {
   "metadata": {},
   "cell_type": "code",
   "outputs": [],
   "execution_count": null,
   "source": "os.environ[\"MODEL_DIR\"] = DIR_MODEL",
   "id": "3ebd8b80fe02f824"
  },
  {
   "metadata": {},
   "cell_type": "code",
   "outputs": [],
   "execution_count": null,
   "source": [
    "%%bash --bg \n",
    "nohup tensorflow_model_server \\\n",
    "  --rest_api_port=8501 \\\n",
    "  --model_name=helloworld \\\n",
    "  --model_base_path=\"${MODEL_DIR}\" >server.log 2>&1"
   ],
   "id": "4af1d6c4955cdcdc"
  },
  {
   "metadata": {},
   "cell_type": "code",
   "outputs": [],
   "execution_count": null,
   "source": "!tail server.log",
   "id": "73f8035f007e87f3"
  },
  {
   "metadata": {},
   "cell_type": "markdown",
   "source": "## Make Inference Request",
   "id": "8fc2876f3358cff4"
  },
  {
   "metadata": {},
   "cell_type": "code",
   "outputs": [],
   "execution_count": null,
   "source": [
    "headers = {\"content-type\": \"application/json\"}\n",
    "json_response = requests.post('http://localhost:8501/v1/models/helloworld:predict', data=data, headers=headers)\n",
    "\n",
    "print(json_response.text)"
   ],
   "id": "113fabc1cb0150ea"
  }
 ],
 "metadata": {
  "kernelspec": {
   "display_name": "Python 3",
   "language": "python",
   "name": "python3"
  },
  "language_info": {
   "codemirror_mode": {
    "name": "ipython",
    "version": 2
   },
   "file_extension": ".py",
   "mimetype": "text/x-python",
   "name": "python",
   "nbconvert_exporter": "python",
   "pygments_lexer": "ipython2",
   "version": "2.7.6"
  }
 },
 "nbformat": 4,
 "nbformat_minor": 5
}
