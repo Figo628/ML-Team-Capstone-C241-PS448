{
 "nbformat": 4,
 "nbformat_minor": 0,
 "metadata": {
  "colab": {
   "provenance": [],
   "gpuType": "T4"
  },
  "kernelspec": {
   "name": "python3",
   "display_name": "Python 3"
  },
  "language_info": {
   "name": "python"
  },
  "accelerator": "GPU"
 },
 "cells": [
  {
   "cell_type": "code",
   "execution_count": 1,
   "metadata": {
    "id": "sUCwayGN4cX0"
   },
   "source": [
    "# @title <p> Import Dependencies\n",
    "import tensorflow as tf\n",
    "from tensorflow.keras import Sequential\n",
    "from tensorflow.keras.layers import Dense, Flatten, Conv2D, BatchNormalization, MaxPool2D, Dropout\n",
    "from tensorflow.keras.optimizers.legacy import Adam\n",
    "from tensorflow.keras.preprocessing import image\n",
    "from tensorflow.keras.preprocessing.image import ImageDataGenerator\n",
    "import numpy as np\n",
    "import pandas as pd\n",
    "import matplotlib.pyplot as plt\n",
    "import seaborn as sns\n",
    "from glob import glob\n",
    "from PIL import Image\n",
    "import os\n",
    "import pickle\n",
    "import cv2\n",
    "from sklearn.preprocessing import MultiLabelBinarizer\n",
    "from sklearn.model_selection import train_test_split\n",
    "from keras.preprocessing import image\n",
    "from keras.preprocessing.image import img_to_array\n",
    "from tensorflow.keras.utils import plot_model\n",
    "from sklearn.metrics import classification_report,accuracy_score,f1_score,confusion_matrix\n"
   ],
   "outputs": []
  },
  {
   "cell_type": "code",
   "source": [
    "# @title <p> Import Data\n",
    "from google.colab import drive\n",
    "drive.mount('/content/drive')"
   ],
   "metadata": {
    "id": "e3phglWs4jGp",
    "colab": {
     "base_uri": "https://localhost:8080/"
    },
    "outputId": "5e4fd1ca-3f7f-440e-feda-fd29d8faa47f"
   },
   "execution_count": 2,
   "outputs": []
  },
  {
   "cell_type": "code",
   "source": [
    "root_dir = '/content/drive/MyDrive/lettuce_experimental-20240529T190721Z-001/lettuce_experimental'\n",
    "train_path = os.path.join(root_dir, 'train')\n",
    "valid_path = os.path.join(root_dir, 'valid')\n",
    "test_path = os.path.join(root_dir, 'test')"
   ],
   "metadata": {
    "id": "5k5L262h4mor"
   },
   "execution_count": 3,
   "outputs": []
  },
  {
   "cell_type": "code",
   "source": [
    "# @title <p> Read images\n",
    "for label in os.listdir(train_path):\n",
    "  for img in os.listdir(os.path.join(train_path, label)):\n",
    "    img = plt.imread(os.path.join(train_path, label, img))\n",
    "    break\n",
    "  break\n",
    "\n",
    "print(f'Label : {label}\\nShape : {img.shape}' )\n",
    "plt.imshow(img)"
   ],
   "metadata": {
    "id": "KiB17OXW4ogm",
    "colab": {
     "base_uri": "https://localhost:8080/",
     "height": 446
    },
    "outputId": "bebf0cf0-e2f9-46a9-bbae-835456ba6c9f"
   },
   "execution_count": 4,
   "outputs": []
  },
  {
   "cell_type": "code",
   "source": [
    "# @title <p> Menyiapkan ImageDataGenerator untuk augmentasi data dan normalisasi\n",
    "train_datagen = ImageDataGenerator(\n",
    "    rescale=1.0/255,\n",
    "    rotation_range=300,\n",
    "    width_shift_range=0.2,\n",
    "    height_shift_range=0.2,\n",
    "    shear_range=0.2,\n",
    "    zoom_range=0.2,\n",
    "    horizontal_flip=True,\n",
    "    fill_mode='nearest'\n",
    ")\n",
    "\n",
    "valid_test_datagen = ImageDataGenerator(rescale=1.0/255)\n",
    "\n",
    "# Memuat data dari folder\n",
    "train_generator = train_datagen.flow_from_directory(\n",
    "    train_path,\n",
    "    target_size=(256, 256),\n",
    "    batch_size=32,\n",
    "    class_mode='categorical'\n",
    ")\n",
    "\n",
    "valid_generator = valid_test_datagen.flow_from_directory(\n",
    "    valid_path,\n",
    "    target_size=(256, 256),\n",
    "    batch_size=32,\n",
    "    class_mode='categorical'\n",
    ")\n",
    "\n",
    "test_generator = valid_test_datagen.flow_from_directory(\n",
    "    test_path,\n",
    "    target_size=(256, 256),\n",
    "    batch_size=32,\n",
    "    class_mode='categorical',\n",
    "    shuffle=False\n",
    ")"
   ],
   "metadata": {
    "id": "aKwr_oXr4qIY",
    "colab": {
     "base_uri": "https://localhost:8080/"
    },
    "outputId": "5c546266-af30-43f4-9d9d-439f964c5c66"
   },
   "execution_count": 5,
   "outputs": []
  },
  {
   "cell_type": "code",
   "source": [
    "# @title <p> Model Building\n",
    "model = tf.keras.Sequential([\n",
    "    tf.keras.layers.Conv2D(64, (3,3), padding='same', input_shape=(256, 256, 3)),\n",
    "    tf.keras.layers.BatchNormalization(),\n",
    "    tf.keras.layers.Activation('relu'),\n",
    "    tf.keras.layers.MaxPool2D(pool_size=(2, 2)),\n",
    "\n",
    "    tf.keras.layers.Conv2D(128, (3,3), padding='same'),\n",
    "    tf.keras.layers.BatchNormalization(),\n",
    "    tf.keras.layers.Activation('relu'),\n",
    "    tf.keras.layers.MaxPool2D(pool_size=(2, 2)),\n",
    "\n",
    "    tf.keras.layers.Conv2D(256, (3,3), padding='same'),\n",
    "    tf.keras.layers.BatchNormalization(),\n",
    "    tf.keras.layers.Activation('relu'),\n",
    "    tf.keras.layers.MaxPool2D(pool_size=(2, 2)),\n",
    "\n",
    "    tf.keras.layers.Conv2D(512, (3,3), padding='same'),\n",
    "    tf.keras.layers.BatchNormalization(),\n",
    "    tf.keras.layers.Activation('relu'),\n",
    "    tf.keras.layers.MaxPool2D(pool_size=(2, 2)),\n",
    "\n",
    "    tf.keras.layers.Flatten(),\n",
    "\n",
    "    tf.keras.layers.Dense(1024),\n",
    "    tf.keras.layers.BatchNormalization(),\n",
    "    tf.keras.layers.Activation('relu'),\n",
    "    tf.keras.layers.Dropout(0.5),\n",
    "\n",
    "    tf.keras.layers.Dense(512),\n",
    "    tf.keras.layers.BatchNormalization(),\n",
    "    tf.keras.layers.Activation('relu'),\n",
    "    tf.keras.layers.Dropout(0.5),\n",
    "\n",
    "    tf.keras.layers.Dense(256),\n",
    "    tf.keras.layers.BatchNormalization(),\n",
    "    tf.keras.layers.Activation('relu'),\n",
    "    tf.keras.layers.Dropout(0.5),\n",
    "\n",
    "    tf.keras.layers.Dense(4, activation='softmax')\n",
    "])\n",
    "\n",
    "\n",
    "\n",
    "model.compile(optimizer=Adam(learning_rate=1e-4, decay = 1e-6), loss='categorical_crossentropy', metrics=['accuracy'])"
   ],
   "metadata": {
    "id": "IgNbrDh44sNE"
   },
   "execution_count": 6,
   "outputs": []
  },
  {
   "cell_type": "code",
   "source": [
    "# @title <p> Model Training\n",
    "r = model.fit(train_generator,\n",
    "              steps_per_epoch=len(train_generator),\n",
    "              epochs=80,\n",
    "              validation_data= valid_generator,\n",
    "              validation_steps = len(valid_generator))"
   ],
   "metadata": {
    "id": "4j_5KZH84u_S",
    "colab": {
     "base_uri": "https://localhost:8080/"
    },
    "outputId": "2655c8b4-5549-4f5b-d4f3-8de45e054387"
   },
   "execution_count": 7,
   "outputs": []
  },
  {
   "cell_type": "code",
   "source": [
    "# @title <p> Plot Training dan valid accuracy\n",
    "plt.figure(figsize=(10, 6))\n",
    "plt.title(\"Accuracy\")\n",
    "plt.plot('Accuracy')\n",
    "plt.plot(r.history['accuracy'], label='Training Accuracy')\n",
    "plt.plot(r.history['val_accuracy'], label='Validation Accuracy')\n",
    "plt.legend()"
   ],
   "metadata": {
    "id": "qy3JntB77vIx",
    "colab": {
     "base_uri": "https://localhost:8080/",
     "height": 562
    },
    "outputId": "11644846-48b8-4886-f7c3-c9517d695cb9"
   },
   "execution_count": 8,
   "outputs": []
  },
  {
   "cell_type": "code",
   "source": [
    "# @title <p> Plot Training dan valid loss\n",
    "plt.figure(figsize=(10, 6))\n",
    "plt.title('Loss')\n",
    "plt.plot(r.history['loss'], label='training_loss')\n",
    "plt.plot(r.history['val_loss'], label='validation_loss')\n",
    "plt.legend()"
   ],
   "metadata": {
    "id": "gvCqRd0E44Re",
    "colab": {
     "base_uri": "https://localhost:8080/",
     "height": 562
    },
    "outputId": "ce7dc435-bf8f-42c1-cfe0-3265f34326fe"
   },
   "execution_count": 9,
   "outputs": []
  },
  {
   "cell_type": "code",
   "source": [
    "# @title <p> Menyimpan Model\n",
    "\n",
    "# Menyimpan model ke file\n",
    "model.save('/content/drive/MyDrive/lettuce_experimental/saved_model/my_model.h5')\n",
    "\n",
    "# Memuat model dari file\n",
    "loaded_model = tf.keras.models.load_model('/content/drive/MyDrive/lettuce_experimental/saved_model/my_model.h5')\n",
    "\n",
    "# Membuat plot arsitektur model\n",
    "plot_model(loaded_model, to_file='/content/drive/MyDrive/lettuce_experimental/saved_model/model_architecture.png', show_shapes=True, show_layer_names=True)\n",
    "\n",
    "print(\"Model and architecture plot saved successfully.\")"
   ],
   "metadata": {
    "id": "Z-MgUZth4zJV",
    "colab": {
     "base_uri": "https://localhost:8080/"
    },
    "outputId": "16b2fa08-e51b-46f2-ad99-c062f3b02e77"
   },
   "execution_count": 10,
   "outputs": []
  },
  {
   "cell_type": "code",
   "source": [
    "model.summary()"
   ],
   "metadata": {
    "id": "af-AUUc74xNw",
    "colab": {
     "base_uri": "https://localhost:8080/"
    },
    "outputId": "2294dda7-9549-46dc-9079-f76ab04e3234"
   },
   "execution_count": 11,
   "outputs": []
  },
  {
   "cell_type": "code",
   "source": [
    "# Mengkonversi model ke TFLite dengan mengaktifkan fallback TF Select Ops\n",
    "converter = tf.lite.TFLiteConverter.from_keras_model(model)\n",
    "converter.target_spec.supported_ops = [\n",
    "    tf.lite.OpsSet.TFLITE_BUILTINS,  # Menggunakan ops bawaan TFLite\n",
    "    tf.lite.OpsSet.SELECT_TF_OPS     # Mengaktifkan ops TensorFlow Select\n",
    "]\n",
    "\n",
    "tflite_model = converter.convert()\n",
    "\n",
    "# Menyimpan model TFLite ke file\n",
    "tflite_model_path = '/content/drive/MyDrive/lettuce_experimental/saved_model/my_model.tflite'\n",
    "with open(tflite_model_path, 'wb') as f:\n",
    "    f.write(tflite_model)\n",
    "\n",
    "print(\"Model converted to TFLite with TensorFlow Select Ops and saved successfully.\")\n"
   ],
   "metadata": {
    "id": "KlgbBpXnA2d9",
    "colab": {
     "base_uri": "https://localhost:8080/"
    },
    "outputId": "db23ab84-9891-48e1-9410-2426487e9b22"
   },
   "execution_count": 12,
   "outputs": []
  },
  {
   "cell_type": "code",
   "source": [
    "# @title <p> Classification Report\n",
    "filename = test_generator.filenames\n",
    "number_of_samples = len(filename)\n",
    "y_pred = model.predict_generator(test_generator,steps=number_of_samples)\n",
    "y_pred = np.argmax(y_pred, axis=1)\n",
    "\n",
    "#getting true label\n",
    "\n",
    "y_true = np.array([])\n",
    "\n",
    "for img_url in filename:\n",
    "  if \"Bacterial\" in img_url:\n",
    "    y_true = np.append(y_true,0)\n",
    "  elif \"Deficient\" in img_url:\n",
    "    y_true = np.append(y_true,1)\n",
    "  elif \"Fungal\" in img_url:\n",
    "    y_true = np.append(y_true,2)\n",
    "  elif \"Healthy\" in img_url:\n",
    "    y_true = np.append(y_true,3)\n",
    "\n",
    "diseases_title = [\"Bacterial\",\"Deficient\",\"Fungal\",\"Healthy\"]\n",
    "\n",
    "#Classification Report\n",
    "\n",
    "print(classification_report(y_true, y_pred, target_names=diseases_title))\n",
    "clr = classification_report(y_true, y_pred,output_dict=True, target_names=diseases_title)\n",
    "fig, ax = plt.subplots(figsize=(10,10))\n",
    "sns.heatmap(pd.DataFrame(clr).iloc[:-1, :].T, annot=True,cmap = \"GnBu\")"
   ],
   "metadata": {
    "id": "fEiwmZE_6P5D",
    "colab": {
     "base_uri": "https://localhost:8080/",
     "height": 1000
    },
    "outputId": "b7ff19d2-dc5e-41ad-ff25-41ab8854719e"
   },
   "execution_count": 13,
   "outputs": []
  },
  {
   "cell_type": "code",
   "source": [
    "#Test set accuracy\n",
    "accuracy_score(y_true,y_pred)"
   ],
   "metadata": {
    "id": "AYmf_KYVJHKT",
    "colab": {
     "base_uri": "https://localhost:8080/"
    },
    "outputId": "33afb7ce-deb2-4683-8014-82c7eacd361d"
   },
   "execution_count": 14,
   "outputs": []
  },
  {
   "cell_type": "code",
   "source": [
    "#Plotting Confusion Matrix\n",
    "plt.figure(figsize=[12,8])\n",
    "sns.heatmap(confusion_matrix(y_true,y_pred),annot = True, fmt = \"d\", cmap = \"GnBu\",xticklabels=diseases_title,yticklabels=diseases_title);"
   ],
   "metadata": {
    "id": "qRKhg4WPJOd0",
    "colab": {
     "base_uri": "https://localhost:8080/",
     "height": 682
    },
    "outputId": "c0f261c8-b15e-436e-bbb8-29f0a6d09310"
   },
   "execution_count": 15,
   "outputs": []
  },
  {
   "cell_type": "code",
   "source": [
    "# @title <p> Menyimpan model tanpa optimizer\n",
    "# Simpan model tanpa optimizer\n",
    "# model.save('/content/drive/MyDrive/lettuce_experimental/saved_model/my_model_no_optimizer.h5', include_optimizer=False)\n",
    "\n",
    "# Muat kembali model tanpa optimizer\n",
    "# model_no_optimizer = tf.keras.models.load_model('/content/drive/MyDrive/lettuce_experimental/saved_model/my_model_no_optimizer.h5')\n",
    "\n",
    "# Mengkonversi model ke TFLite dengan mengaktifkan fallback TF Select Ops\n",
    "# converter = tf.lite.TFLiteConverter.from_keras_model(model_no_optimizer)\n",
    "# converter.target_spec.supported_ops = [\n",
    "    # tf.lite.OpsSet.TFLITE_BUILTINS,  # Menggunakan ops bawaan TFLite\n",
    "    # tf.lite.OpsSet.SELECT_TF_OPS     # Mengaktifkan ops TensorFlow Select\n",
    "# ]\n",
    "\n",
    "# tflite_model = converter.convert()\n",
    "\n",
    "# Menyimpan model TFLite ke file\n",
    "# tflite_model_path = '/content/drive/MyDrive/lettuce_experimental/saved_model/my_model.tflite'\n",
    "# with open(tflite_model_path, 'wb') as f:\n",
    "    # f.write(tflite_model)\n",
    "\n",
    "# print(\"Model converted to TFLite with TensorFlow Select Ops and saved successfully.\")\n"
   ],
   "metadata": {
    "id": "xqSubIpF40KR"
   },
   "execution_count": 16,
   "outputs": []
  }
 ]
}
